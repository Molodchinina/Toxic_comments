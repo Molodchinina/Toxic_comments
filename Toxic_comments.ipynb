{
 "cells": [
  {
   "cell_type": "markdown",
   "metadata": {
    "toc": true
   },
   "source": [
    "<h1>Содержание<span class=\"tocSkip\"></span></h1>\n",
    "<div class=\"toc\"><ul class=\"toc-item\"><li><span><a href=\"#Подготовка\" data-toc-modified-id=\"Подготовка-1\"><span class=\"toc-item-num\">1&nbsp;&nbsp;</span>Подготовка</a></span></li><li><span><a href=\"#Обучение\" data-toc-modified-id=\"Обучение-2\"><span class=\"toc-item-num\">2&nbsp;&nbsp;</span>Обучение</a></span><ul class=\"toc-item\"><li><span><a href=\"#LogisticRegression\" data-toc-modified-id=\"LogisticRegression-2.1\"><span class=\"toc-item-num\">2.1&nbsp;&nbsp;</span>LogisticRegression</a></span></li><li><span><a href=\"#DecisionTreeClassifier\" data-toc-modified-id=\"DecisionTreeClassifier-2.2\"><span class=\"toc-item-num\">2.2&nbsp;&nbsp;</span>DecisionTreeClassifier</a></span></li><li><span><a href=\"#CatBoostClassifier\" data-toc-modified-id=\"CatBoostClassifier-2.3\"><span class=\"toc-item-num\">2.3&nbsp;&nbsp;</span>CatBoostClassifier</a></span></li><li><span><a href=\"#Тестируем-лучшую-модель\" data-toc-modified-id=\"Тестируем-лучшую-модель-2.4\"><span class=\"toc-item-num\">2.4&nbsp;&nbsp;</span>Тестируем лучшую модель</a></span></li></ul></li><li><span><a href=\"#Выводы\" data-toc-modified-id=\"Выводы-3\"><span class=\"toc-item-num\">3&nbsp;&nbsp;</span>Выводы</a></span></li></ul></div>"
   ]
  },
  {
   "cell_type": "markdown",
   "metadata": {},
   "source": [
    "# Проект «Поиск токсичных комментариев»"
   ]
  },
  {
   "cell_type": "markdown",
   "metadata": {},
   "source": [
    "## Подготовка"
   ]
  },
  {
   "cell_type": "code",
   "execution_count": 2,
   "metadata": {},
   "outputs": [
    {
     "name": "stderr",
     "output_type": "stream",
     "text": [
      "[nltk_data] Downloading package averaged_perceptron_tagger to\n",
      "[nltk_data]     /home/jovyan/nltk_data...\n",
      "[nltk_data]   Package averaged_perceptron_tagger is already up-to-\n",
      "[nltk_data]       date!\n"
     ]
    }
   ],
   "source": [
    "import numpy as np\n",
    "import pandas as pd\n",
    "import re\n",
    "import nltk\n",
    "from nltk.corpus import stopwords as nltk_stopwords\n",
    "from nltk.corpus import wordnet\n",
    "from nltk.stem import WordNetLemmatizer\n",
    "nltk.download('averaged_perceptron_tagger')\n",
    "from sklearn.pipeline import Pipeline\n",
    "from sklearn.feature_extraction.text import TfidfVectorizer\n",
    "from sklearn.model_selection import train_test_split, cross_val_score, GridSearchCV\n",
    "from sklearn.linear_model import LogisticRegression\n",
    "from lightgbm import LGBMClassifier \n",
    "from sklearn.tree import DecisionTreeClassifier\n",
    "from catboost import CatBoostClassifier\n",
    "from sklearn.metrics import f1_score, precision_score, recall_score, accuracy_score, roc_auc_score, roc_curve\n",
    "from sklearn.utils import shuffle\n",
    "import matplotlib.pyplot as plt\n",
    "import warnings\n",
    "warnings.filterwarnings('ignore')\n",
    "from tqdm import tqdm\n",
    "tqdm.pandas()"
   ]
  },
  {
   "cell_type": "code",
   "execution_count": 3,
   "metadata": {},
   "outputs": [],
   "source": [
    "#загружаем данные\n",
    "df = pd.read_csv('/datasets/toxic_comments.csv')"
   ]
  },
  {
   "cell_type": "code",
   "execution_count": 4,
   "metadata": {},
   "outputs": [
    {
     "name": "stdout",
     "output_type": "stream",
     "text": [
      "<class 'pandas.core.frame.DataFrame'>\n",
      "RangeIndex: 159292 entries, 0 to 159291\n",
      "Data columns (total 3 columns):\n",
      " #   Column      Non-Null Count   Dtype \n",
      "---  ------      --------------   ----- \n",
      " 0   Unnamed: 0  159292 non-null  int64 \n",
      " 1   text        159292 non-null  object\n",
      " 2   toxic       159292 non-null  int64 \n",
      "dtypes: int64(2), object(1)\n",
      "memory usage: 3.6+ MB\n"
     ]
    },
    {
     "data": {
      "text/plain": [
       "None"
      ]
     },
     "metadata": {},
     "output_type": "display_data"
    },
    {
     "data": {
      "text/html": [
       "<div>\n",
       "<style scoped>\n",
       "    .dataframe tbody tr th:only-of-type {\n",
       "        vertical-align: middle;\n",
       "    }\n",
       "\n",
       "    .dataframe tbody tr th {\n",
       "        vertical-align: top;\n",
       "    }\n",
       "\n",
       "    .dataframe thead th {\n",
       "        text-align: right;\n",
       "    }\n",
       "</style>\n",
       "<table border=\"1\" class=\"dataframe\">\n",
       "  <thead>\n",
       "    <tr style=\"text-align: right;\">\n",
       "      <th></th>\n",
       "      <th>Unnamed: 0</th>\n",
       "      <th>text</th>\n",
       "      <th>toxic</th>\n",
       "    </tr>\n",
       "  </thead>\n",
       "  <tbody>\n",
       "    <tr>\n",
       "      <th>0</th>\n",
       "      <td>0</td>\n",
       "      <td>Explanation\\nWhy the edits made under my usern...</td>\n",
       "      <td>0</td>\n",
       "    </tr>\n",
       "    <tr>\n",
       "      <th>1</th>\n",
       "      <td>1</td>\n",
       "      <td>D'aww! He matches this background colour I'm s...</td>\n",
       "      <td>0</td>\n",
       "    </tr>\n",
       "    <tr>\n",
       "      <th>2</th>\n",
       "      <td>2</td>\n",
       "      <td>Hey man, I'm really not trying to edit war. It...</td>\n",
       "      <td>0</td>\n",
       "    </tr>\n",
       "    <tr>\n",
       "      <th>3</th>\n",
       "      <td>3</td>\n",
       "      <td>\"\\nMore\\nI can't make any real suggestions on ...</td>\n",
       "      <td>0</td>\n",
       "    </tr>\n",
       "    <tr>\n",
       "      <th>4</th>\n",
       "      <td>4</td>\n",
       "      <td>You, sir, are my hero. Any chance you remember...</td>\n",
       "      <td>0</td>\n",
       "    </tr>\n",
       "    <tr>\n",
       "      <th>5</th>\n",
       "      <td>5</td>\n",
       "      <td>\"\\n\\nCongratulations from me as well, use the ...</td>\n",
       "      <td>0</td>\n",
       "    </tr>\n",
       "    <tr>\n",
       "      <th>6</th>\n",
       "      <td>6</td>\n",
       "      <td>COCKSUCKER BEFORE YOU PISS AROUND ON MY WORK</td>\n",
       "      <td>1</td>\n",
       "    </tr>\n",
       "    <tr>\n",
       "      <th>7</th>\n",
       "      <td>7</td>\n",
       "      <td>Your vandalism to the Matt Shirvington article...</td>\n",
       "      <td>0</td>\n",
       "    </tr>\n",
       "    <tr>\n",
       "      <th>8</th>\n",
       "      <td>8</td>\n",
       "      <td>Sorry if the word 'nonsense' was offensive to ...</td>\n",
       "      <td>0</td>\n",
       "    </tr>\n",
       "    <tr>\n",
       "      <th>9</th>\n",
       "      <td>9</td>\n",
       "      <td>alignment on this subject and which are contra...</td>\n",
       "      <td>0</td>\n",
       "    </tr>\n",
       "  </tbody>\n",
       "</table>\n",
       "</div>"
      ],
      "text/plain": [
       "   Unnamed: 0                                               text  toxic\n",
       "0           0  Explanation\\nWhy the edits made under my usern...      0\n",
       "1           1  D'aww! He matches this background colour I'm s...      0\n",
       "2           2  Hey man, I'm really not trying to edit war. It...      0\n",
       "3           3  \"\\nMore\\nI can't make any real suggestions on ...      0\n",
       "4           4  You, sir, are my hero. Any chance you remember...      0\n",
       "5           5  \"\\n\\nCongratulations from me as well, use the ...      0\n",
       "6           6       COCKSUCKER BEFORE YOU PISS AROUND ON MY WORK      1\n",
       "7           7  Your vandalism to the Matt Shirvington article...      0\n",
       "8           8  Sorry if the word 'nonsense' was offensive to ...      0\n",
       "9           9  alignment on this subject and which are contra...      0"
      ]
     },
     "metadata": {},
     "output_type": "display_data"
    },
    {
     "data": {
      "text/html": [
       "<div>\n",
       "<style scoped>\n",
       "    .dataframe tbody tr th:only-of-type {\n",
       "        vertical-align: middle;\n",
       "    }\n",
       "\n",
       "    .dataframe tbody tr th {\n",
       "        vertical-align: top;\n",
       "    }\n",
       "\n",
       "    .dataframe thead th {\n",
       "        text-align: right;\n",
       "    }\n",
       "</style>\n",
       "<table border=\"1\" class=\"dataframe\">\n",
       "  <thead>\n",
       "    <tr style=\"text-align: right;\">\n",
       "      <th></th>\n",
       "      <th>Unnamed: 0</th>\n",
       "      <th>toxic</th>\n",
       "    </tr>\n",
       "  </thead>\n",
       "  <tbody>\n",
       "    <tr>\n",
       "      <th>count</th>\n",
       "      <td>159292.000000</td>\n",
       "      <td>159292.000000</td>\n",
       "    </tr>\n",
       "    <tr>\n",
       "      <th>mean</th>\n",
       "      <td>79725.697242</td>\n",
       "      <td>0.101612</td>\n",
       "    </tr>\n",
       "    <tr>\n",
       "      <th>std</th>\n",
       "      <td>46028.837471</td>\n",
       "      <td>0.302139</td>\n",
       "    </tr>\n",
       "    <tr>\n",
       "      <th>min</th>\n",
       "      <td>0.000000</td>\n",
       "      <td>0.000000</td>\n",
       "    </tr>\n",
       "    <tr>\n",
       "      <th>25%</th>\n",
       "      <td>39872.750000</td>\n",
       "      <td>0.000000</td>\n",
       "    </tr>\n",
       "    <tr>\n",
       "      <th>50%</th>\n",
       "      <td>79721.500000</td>\n",
       "      <td>0.000000</td>\n",
       "    </tr>\n",
       "    <tr>\n",
       "      <th>75%</th>\n",
       "      <td>119573.250000</td>\n",
       "      <td>0.000000</td>\n",
       "    </tr>\n",
       "    <tr>\n",
       "      <th>max</th>\n",
       "      <td>159450.000000</td>\n",
       "      <td>1.000000</td>\n",
       "    </tr>\n",
       "  </tbody>\n",
       "</table>\n",
       "</div>"
      ],
      "text/plain": [
       "          Unnamed: 0          toxic\n",
       "count  159292.000000  159292.000000\n",
       "mean    79725.697242       0.101612\n",
       "std     46028.837471       0.302139\n",
       "min         0.000000       0.000000\n",
       "25%     39872.750000       0.000000\n",
       "50%     79721.500000       0.000000\n",
       "75%    119573.250000       0.000000\n",
       "max    159450.000000       1.000000"
      ]
     },
     "metadata": {},
     "output_type": "display_data"
    },
    {
     "name": "stdout",
     "output_type": "stream",
     "text": [
      "Кол-во пропусков: Unnamed: 0    0\n",
      "text          0\n",
      "toxic         0\n",
      "dtype: int64\n",
      "Дубликатов: 0\n",
      "Размер датасета: (159292, 3)\n"
     ]
    }
   ],
   "source": [
    "#смотри общую информацию\n",
    "display(df.info())\n",
    "display(df.head(10))\n",
    "display(df.describe())\n",
    "print('Кол-во пропусков:', df.isna().sum())\n",
    "print('Дубликатов:', df.duplicated().sum())\n",
    "print('Размер датасета:', df.shape)"
   ]
  },
  {
   "cell_type": "code",
   "execution_count": 5,
   "metadata": {},
   "outputs": [
    {
     "data": {
      "text/plain": [
       "0    143106\n",
       "1     16186\n",
       "Name: toxic, dtype: int64"
      ]
     },
     "metadata": {},
     "output_type": "display_data"
    }
   ],
   "source": [
    "#смотрим сколько токсичных/нектоксичных текстов\n",
    "display(df['toxic'].value_counts())"
   ]
  },
  {
   "cell_type": "code",
   "execution_count": 6,
   "metadata": {},
   "outputs": [
    {
     "data": {
      "text/plain": [
       "0    89.838787\n",
       "1    10.161213\n",
       "Name: toxic, dtype: float64"
      ]
     },
     "execution_count": 6,
     "metadata": {},
     "output_type": "execute_result"
    }
   ],
   "source": [
    "#смротрим соотношение\n",
    "df.toxic.value_counts() / df.shape[0] * 100 "
   ]
  },
  {
   "cell_type": "markdown",
   "metadata": {},
   "source": [
    "Дубликатов и пропусков нет.\n",
    "В данных 2 столбца: toxic, text. В столбце text содержатся тексты твитов. В столбе toxic булевые значения - токсичный твит (1) или нет (0). Почти 90% твитов не токсичны."
   ]
  },
  {
   "cell_type": "code",
   "execution_count": 7,
   "metadata": {},
   "outputs": [
    {
     "name": "stderr",
     "output_type": "stream",
     "text": [
      "100%|██████████| 159292/159292 [20:35<00:00, 128.88it/s]\n"
     ]
    }
   ],
   "source": [
    "#ввожу функцию РОS-тэгирования слов:\n",
    "def get_wordnet_pos(word):\n",
    "    tag = nltk.pos_tag([word])[0][1][0].upper()\n",
    "    tag_dict = {\"J\": wordnet.ADJ,               #прилагательное\n",
    "                \"N\": wordnet.NOUN,              #существительное\n",
    "                \"V\": wordnet.VERB,              #глагол\n",
    "                \"R\": wordnet.ADV                #наречие\n",
    "               }  \n",
    "    return tag_dict.get(tag, wordnet.NOUN)\n",
    "\n",
    "#лемматизируем текст\n",
    "lemmatizer = WordNetLemmatizer()\n",
    "def lemmatize_text(text):\n",
    "    text = text.lower()\n",
    "    cleared_text = re.sub(r'[^a-zA-Z]', ' ', text)\n",
    "    lemm_text = \" \".join([lemmatizer.lemmatize(w, get_wordnet_pos(w)) for w in cleared_text.split()])\n",
    "    return \" \".join(lemm_text.split())\n",
    "\n",
    "df['lemm_text'] = df['text'].progress_apply(lemmatize_text)\n",
    "\n",
    "df = df.drop(['text'], axis=1)"
   ]
  },
  {
   "cell_type": "code",
   "execution_count": 9,
   "metadata": {},
   "outputs": [
    {
     "data": {
      "text/html": [
       "<div>\n",
       "<style scoped>\n",
       "    .dataframe tbody tr th:only-of-type {\n",
       "        vertical-align: middle;\n",
       "    }\n",
       "\n",
       "    .dataframe tbody tr th {\n",
       "        vertical-align: top;\n",
       "    }\n",
       "\n",
       "    .dataframe thead th {\n",
       "        text-align: right;\n",
       "    }\n",
       "</style>\n",
       "<table border=\"1\" class=\"dataframe\">\n",
       "  <thead>\n",
       "    <tr style=\"text-align: right;\">\n",
       "      <th></th>\n",
       "      <th>Unnamed: 0</th>\n",
       "      <th>toxic</th>\n",
       "      <th>lemm_text</th>\n",
       "    </tr>\n",
       "  </thead>\n",
       "  <tbody>\n",
       "    <tr>\n",
       "      <th>0</th>\n",
       "      <td>0</td>\n",
       "      <td>0</td>\n",
       "      <td>explanation why the edits make under my userna...</td>\n",
       "    </tr>\n",
       "    <tr>\n",
       "      <th>1</th>\n",
       "      <td>1</td>\n",
       "      <td>0</td>\n",
       "      <td>d aww he match this background colour i m seem...</td>\n",
       "    </tr>\n",
       "    <tr>\n",
       "      <th>2</th>\n",
       "      <td>2</td>\n",
       "      <td>0</td>\n",
       "      <td>hey man i m really not try to edit war it s ju...</td>\n",
       "    </tr>\n",
       "    <tr>\n",
       "      <th>3</th>\n",
       "      <td>3</td>\n",
       "      <td>0</td>\n",
       "      <td>more i can t make any real suggestion on impro...</td>\n",
       "    </tr>\n",
       "    <tr>\n",
       "      <th>4</th>\n",
       "      <td>4</td>\n",
       "      <td>0</td>\n",
       "      <td>you sir be my hero any chance you remember wha...</td>\n",
       "    </tr>\n",
       "    <tr>\n",
       "      <th>5</th>\n",
       "      <td>5</td>\n",
       "      <td>0</td>\n",
       "      <td>congratulation from me a well use the tool wel...</td>\n",
       "    </tr>\n",
       "    <tr>\n",
       "      <th>6</th>\n",
       "      <td>6</td>\n",
       "      <td>1</td>\n",
       "      <td>cocksucker before you piss around on my work</td>\n",
       "    </tr>\n",
       "    <tr>\n",
       "      <th>7</th>\n",
       "      <td>7</td>\n",
       "      <td>0</td>\n",
       "      <td>your vandalism to the matt shirvington article...</td>\n",
       "    </tr>\n",
       "    <tr>\n",
       "      <th>8</th>\n",
       "      <td>8</td>\n",
       "      <td>0</td>\n",
       "      <td>sorry if the word nonsense be offensive to you...</td>\n",
       "    </tr>\n",
       "    <tr>\n",
       "      <th>9</th>\n",
       "      <td>9</td>\n",
       "      <td>0</td>\n",
       "      <td>alignment on this subject and which be contrar...</td>\n",
       "    </tr>\n",
       "  </tbody>\n",
       "</table>\n",
       "</div>"
      ],
      "text/plain": [
       "   Unnamed: 0  toxic                                          lemm_text\n",
       "0           0      0  explanation why the edits make under my userna...\n",
       "1           1      0  d aww he match this background colour i m seem...\n",
       "2           2      0  hey man i m really not try to edit war it s ju...\n",
       "3           3      0  more i can t make any real suggestion on impro...\n",
       "4           4      0  you sir be my hero any chance you remember wha...\n",
       "5           5      0  congratulation from me a well use the tool wel...\n",
       "6           6      1       cocksucker before you piss around on my work\n",
       "7           7      0  your vandalism to the matt shirvington article...\n",
       "8           8      0  sorry if the word nonsense be offensive to you...\n",
       "9           9      0  alignment on this subject and which be contrar..."
      ]
     },
     "metadata": {},
     "output_type": "display_data"
    }
   ],
   "source": [
    "#проверяем\n",
    "display(df.head(10))"
   ]
  },
  {
   "cell_type": "code",
   "execution_count": 11,
   "metadata": {},
   "outputs": [],
   "source": [
    "#делим данные на выборки:\n",
    "target = df['toxic']\n",
    "features = df.drop(['toxic'], axis=1)\n",
    "\n",
    "features_train, features_test, target_train, target_test = train_test_split(features, target,test_size=.1,random_state=1515)"
   ]
  },
  {
   "cell_type": "code",
   "execution_count": 12,
   "metadata": {},
   "outputs": [
    {
     "name": "stdout",
     "output_type": "stream",
     "text": [
      "Размер тренировочной выборки- 90%\n",
      "Размер тестовой выборки - 10%\n"
     ]
    }
   ],
   "source": [
    "train_sample = features_train.shape[0] / features.shape[0]\n",
    "test_sample = features_test.shape[0] / features.shape[0]\n",
    "\n",
    "print('Размер тренировочной выборки- {:.0%}'.format(train_sample))\n",
    "print('Размер тестовой выборки - {:.0%}'.format(test_sample))"
   ]
  },
  {
   "cell_type": "code",
   "execution_count": 14,
   "metadata": {},
   "outputs": [
    {
     "name": "stderr",
     "output_type": "stream",
     "text": [
      "[nltk_data] Downloading package stopwords to /home/jovyan/nltk_data...\n",
      "[nltk_data]   Package stopwords is already up-to-date!\n"
     ]
    },
    {
     "name": "stdout",
     "output_type": "stream",
     "text": [
      "(143362, 142167)\n",
      "(15930, 142167)\n"
     ]
    }
   ],
   "source": [
    "#загружаем библиотеку и стоп-слова из английского языка\n",
    "nltk.download('stopwords') \n",
    "stop_words = set(nltk_stopwords.words('english'))\n",
    "\n",
    "count_tf_idf = TfidfVectorizer(stop_words=stop_words)\n",
    "\n",
    "features_train = count_tf_idf.fit_transform(features_train['lemm_text'])\n",
    "features_test = count_tf_idf.transform(features_test['lemm_text'])\n",
    "print(features_train.shape)\n",
    "print(features_test.shape)"
   ]
  },
  {
   "cell_type": "markdown",
   "metadata": {},
   "source": [
    "## Обучение"
   ]
  },
  {
   "cell_type": "markdown",
   "metadata": {},
   "source": [
    "### LogisticRegression"
   ]
  },
  {
   "cell_type": "code",
   "execution_count": 15,
   "metadata": {},
   "outputs": [
    {
     "name": "stdout",
     "output_type": "stream",
     "text": [
      "{'C': 10, 'class_weight': 'balanced', 'solver': 'liblinear'}\n",
      "CPU times: user 5min 33s, sys: 6min 12s, total: 11min 45s\n",
      "Wall time: 11min 46s\n"
     ]
    }
   ],
   "source": [
    "%%time\n",
    "\n",
    "model_lr = LogisticRegression()\n",
    "params = [{'solver':['newton-cg', 'lbfgs', 'liblinear'], 'C':[0.1, 1, 10],'class_weight':['balanced']}]\n",
    "\n",
    "grid_lr = GridSearchCV(model_lr, params, scoring='f1',cv=3)\n",
    "grid_lr.fit(features_train, target_train)\n",
    "\n",
    "lr_best_params = grid_lr.best_params_\n",
    "print(lr_best_params)"
   ]
  },
  {
   "cell_type": "code",
   "execution_count": 17,
   "metadata": {},
   "outputs": [
    {
     "name": "stdout",
     "output_type": "stream",
     "text": [
      "Среднее качество модели LogisticRegression на кросс-валидации: 0.7587517503201725\n",
      "CPU times: user 52.2 s, sys: 52.6 s, total: 1min 44s\n",
      "Wall time: 1min 44s\n"
     ]
    }
   ],
   "source": [
    "%%time\n",
    "\n",
    "model_lr.set_params(**lr_best_params)\n",
    "model_lr.fit(features_train, target_train)\n",
    "model_lr_val = cross_val_score(model_lr, features_train, target_train, scoring='f1', cv=3).mean() \n",
    "print('Среднее качество модели LogisticRegression на кросс-валидации:', model_lr_val)"
   ]
  },
  {
   "cell_type": "markdown",
   "metadata": {},
   "source": [
    "### DecisionTreeClassifier"
   ]
  },
  {
   "cell_type": "code",
   "execution_count": 18,
   "metadata": {},
   "outputs": [
    {
     "name": "stdout",
     "output_type": "stream",
     "text": [
      "{'class_weight': 'balanced', 'max_depth': 90, 'random_state': 12345}\n",
      "CPU times: user 15min 25s, sys: 2.93 s, total: 15min 27s\n",
      "Wall time: 15min 28s\n"
     ]
    }
   ],
   "source": [
    "%%time\n",
    "\n",
    "model_tree = DecisionTreeClassifier()\n",
    "params = [{'max_depth':[x for x in range(50,100,10)], 'random_state':[12345], 'class_weight':['balanced']}]\n",
    "\n",
    "grid_tree = GridSearchCV(model_tree, params, scoring='f1',cv=3)\n",
    "grid_tree.fit(features_train, target_train)\n",
    "\n",
    "tree_best_params = grid_tree.best_params_\n",
    "print(tree_best_params)"
   ]
  },
  {
   "cell_type": "code",
   "execution_count": 20,
   "metadata": {},
   "outputs": [
    {
     "name": "stdout",
     "output_type": "stream",
     "text": [
      "Среднее качество модели DecisionTreeClassifier на кросс-валидации: 0.6345772613823034\n",
      "CPU times: user 5min 4s, sys: 650 ms, total: 5min 4s\n",
      "Wall time: 5min 5s\n"
     ]
    }
   ],
   "source": [
    "%%time\n",
    "\n",
    "model_tree.set_params(**tree_best_params)\n",
    "model_tree.fit(features_train, target_train)\n",
    "model_tree_val = cross_val_score(model_tree, features_train, target_train, scoring='f1', cv=3).mean() \n",
    "print('Среднее качество модели DecisionTreeClassifier на кросс-валидации:', model_tree_val)"
   ]
  },
  {
   "cell_type": "markdown",
   "metadata": {},
   "source": [
    "### CatBoostClassifier"
   ]
  },
  {
   "cell_type": "code",
   "execution_count": 22,
   "metadata": {},
   "outputs": [
    {
     "name": "stdout",
     "output_type": "stream",
     "text": [
      "Среднее качество модели CatBoostClassifier на кросс-валидации: 0.7380767377277108\n",
      "CPU times: user 33min 53s, sys: 21.7 s, total: 34min 15s\n",
      "Wall time: 34min 20s\n"
     ]
    }
   ],
   "source": [
    "%%time\n",
    "\n",
    "model_cat = CatBoostClassifier(verbose=False, iterations=250)\n",
    "model_cat.fit(features_train, target_train)\n",
    "model_cat_val = cross_val_score(model_cat, features_train, target_train, scoring='f1', cv=3).mean() \n",
    "print('Среднее качество модели CatBoostClassifier на кросс-валидации:', model_cat_val)"
   ]
  },
  {
   "cell_type": "code",
   "execution_count": 23,
   "metadata": {},
   "outputs": [
    {
     "name": "stdout",
     "output_type": "stream",
     "text": [
      "                        Качество модели\n",
      "LogisticRegression             0.758752\n",
      "DecisionTreeClassifier         0.634577\n",
      "CatBoostClassifier             0.738077\n"
     ]
    }
   ],
   "source": [
    "#сравниваем модели\n",
    "index = ['LogisticRegression', 'DecisionTreeClassifier','CatBoostClassifier']\n",
    "data = {'Качество модели': [model_lr_val,  model_tree_val,  model_cat_val]}\n",
    "\n",
    "models_f1 = pd.DataFrame(data=data, index=index)\n",
    "print(models_f1)"
   ]
  },
  {
   "cell_type": "markdown",
   "metadata": {},
   "source": [
    "Лучшая модель LogisticRegression со значением метрики качества F1=0,75"
   ]
  },
  {
   "cell_type": "markdown",
   "metadata": {},
   "source": [
    "### Тестируем лучшую модель"
   ]
  },
  {
   "cell_type": "code",
   "execution_count": 24,
   "metadata": {},
   "outputs": [
    {
     "name": "stdout",
     "output_type": "stream",
     "text": [
      "Качество модели F1 на тестовой выборке = 0.7595375722543353\n"
     ]
    }
   ],
   "source": [
    "predict = grid_lr.predict(features_test)\n",
    "print('Качество модели F1 на тестовой выборке =', f1_score(target_test, predict))"
   ]
  },
  {
   "cell_type": "markdown",
   "metadata": {},
   "source": [
    "## Выводы"
   ]
  },
  {
   "cell_type": "markdown",
   "metadata": {},
   "source": [
    "<p>При подготовке данных было выявлено: дубликатов и пропусков нет. В данных 2 столбца: toxic, text. В столбце text содержатся тексты твитов. В столбе toxic булевые значения - токсичный твит (1) или нет (0). Почти 90% твитов не токсичны.\n",
    "<p>Сформированы обучающая, валидационная и тестовая выборка.\n",
    "<p>Обучены модели и выбрана лучшая из них - LogisticRegression со значением метрики качества F1=0,75."
   ]
  }
 ],
 "metadata": {
  "ExecuteTimeLog": [
   {
    "duration": 1909,
    "start_time": "2023-03-25T13:53:57.332Z"
   },
   {
    "duration": 1363,
    "start_time": "2023-03-25T13:54:06.379Z"
   },
   {
    "duration": 12,
    "start_time": "2023-03-25T13:54:17.116Z"
   },
   {
    "duration": 13,
    "start_time": "2023-03-25T13:54:32.092Z"
   },
   {
    "duration": 1950,
    "start_time": "2023-03-28T09:49:45.162Z"
   },
   {
    "duration": 2776,
    "start_time": "2023-03-28T09:50:17.233Z"
   },
   {
    "duration": 438,
    "start_time": "2023-03-28T09:50:36.129Z"
   },
   {
    "duration": 6,
    "start_time": "2023-03-28T09:53:04.426Z"
   },
   {
    "duration": 9,
    "start_time": "2023-03-28T09:53:12.603Z"
   },
   {
    "duration": 9,
    "start_time": "2023-03-28T09:55:04.160Z"
   },
   {
    "duration": 10,
    "start_time": "2023-03-28T09:55:23.970Z"
   },
   {
    "duration": 156,
    "start_time": "2023-03-28T11:43:10.794Z"
   },
   {
    "duration": 9528,
    "start_time": "2023-03-28T11:43:38.174Z"
   },
   {
    "duration": 9,
    "start_time": "2023-03-28T11:45:08.415Z"
   },
   {
    "duration": 2110,
    "start_time": "2023-03-28T11:45:37.896Z"
   },
   {
    "duration": 1855,
    "start_time": "2023-03-28T11:45:58.442Z"
   },
   {
    "duration": 7,
    "start_time": "2023-03-28T11:46:03.273Z"
   },
   {
    "duration": 2865,
    "start_time": "2023-03-28T11:46:04.068Z"
   },
   {
    "duration": 366,
    "start_time": "2023-03-28T11:46:06.937Z"
   },
   {
    "duration": 10,
    "start_time": "2023-03-28T11:46:09.738Z"
   },
   {
    "duration": 10,
    "start_time": "2023-03-28T11:46:10.751Z"
   },
   {
    "duration": 7319,
    "start_time": "2023-03-28T11:46:13.402Z"
   },
   {
    "duration": 9,
    "start_time": "2023-03-28T11:46:28.377Z"
   },
   {
    "duration": 218,
    "start_time": "2023-03-28T11:53:44.520Z"
   },
   {
    "duration": 5,
    "start_time": "2023-03-28T11:54:21.425Z"
   },
   {
    "duration": 28,
    "start_time": "2023-03-28T11:58:38.289Z"
   },
   {
    "duration": 5,
    "start_time": "2023-03-28T11:59:52.692Z"
   },
   {
    "duration": 38,
    "start_time": "2023-03-28T12:00:41.469Z"
   },
   {
    "duration": 8,
    "start_time": "2023-03-28T12:00:42.437Z"
   },
   {
    "duration": 51,
    "start_time": "2023-03-28T12:04:37.371Z"
   },
   {
    "duration": 4,
    "start_time": "2023-03-28T12:04:38.409Z"
   },
   {
    "duration": 4,
    "start_time": "2023-03-28T12:05:14.209Z"
   },
   {
    "duration": 13,
    "start_time": "2023-03-28T12:12:27.178Z"
   },
   {
    "duration": 7,
    "start_time": "2023-03-28T12:12:38.801Z"
   },
   {
    "duration": 9,
    "start_time": "2023-03-28T12:15:06.884Z"
   },
   {
    "duration": 157,
    "start_time": "2023-03-28T12:17:07.760Z"
   },
   {
    "duration": 3331,
    "start_time": "2023-03-28T12:18:37.871Z"
   },
   {
    "duration": 5,
    "start_time": "2023-03-28T12:19:05.608Z"
   },
   {
    "duration": 202,
    "start_time": "2023-03-28T12:20:37.913Z"
   },
   {
    "duration": 10,
    "start_time": "2023-03-28T12:21:08.059Z"
   },
   {
    "duration": 808,
    "start_time": "2023-03-28T12:21:08.665Z"
   },
   {
    "duration": 340,
    "start_time": "2023-03-28T12:21:09.476Z"
   },
   {
    "duration": 7,
    "start_time": "2023-03-28T12:21:09.817Z"
   },
   {
    "duration": 38,
    "start_time": "2023-03-28T12:21:09.826Z"
   },
   {
    "duration": 6611,
    "start_time": "2023-03-28T12:21:09.865Z"
   },
   {
    "duration": 9,
    "start_time": "2023-03-28T12:21:16.478Z"
   },
   {
    "duration": 92,
    "start_time": "2023-03-28T12:21:16.489Z"
   },
   {
    "duration": 6,
    "start_time": "2023-03-28T12:21:16.583Z"
   },
   {
    "duration": 19,
    "start_time": "2023-03-28T12:21:16.592Z"
   },
   {
    "duration": 12,
    "start_time": "2023-03-28T12:21:16.614Z"
   },
   {
    "duration": 2841,
    "start_time": "2023-03-28T12:21:20.282Z"
   },
   {
    "duration": 559,
    "start_time": "2023-03-28T12:21:46.171Z"
   },
   {
    "duration": 117,
    "start_time": "2023-03-28T12:22:52.320Z"
   },
   {
    "duration": 35,
    "start_time": "2023-03-28T12:23:32.028Z"
   },
   {
    "duration": 805,
    "start_time": "2023-03-28T12:23:32.492Z"
   },
   {
    "duration": 392,
    "start_time": "2023-03-28T12:23:33.305Z"
   },
   {
    "duration": 8,
    "start_time": "2023-03-28T12:23:34.447Z"
   },
   {
    "duration": 9,
    "start_time": "2023-03-28T12:23:34.971Z"
   },
   {
    "duration": 6701,
    "start_time": "2023-03-28T12:23:35.901Z"
   },
   {
    "duration": 11,
    "start_time": "2023-03-28T12:23:42.606Z"
   },
   {
    "duration": 87,
    "start_time": "2023-03-28T12:23:42.618Z"
   },
   {
    "duration": 8,
    "start_time": "2023-03-28T12:23:43.740Z"
   },
   {
    "duration": 6,
    "start_time": "2023-03-28T12:23:44.460Z"
   },
   {
    "duration": 8,
    "start_time": "2023-03-28T12:23:44.980Z"
   },
   {
    "duration": 505,
    "start_time": "2023-03-28T12:23:46.352Z"
   },
   {
    "duration": 381,
    "start_time": "2023-03-28T12:23:49.701Z"
   },
   {
    "duration": 17,
    "start_time": "2023-03-28T12:30:38.682Z"
   },
   {
    "duration": 3049,
    "start_time": "2023-03-28T12:31:44.069Z"
   },
   {
    "duration": 15,
    "start_time": "2023-03-28T12:33:27.223Z"
   },
   {
    "duration": 21,
    "start_time": "2023-03-28T12:33:48.873Z"
   },
   {
    "duration": 11557,
    "start_time": "2023-03-28T12:34:04.184Z"
   },
   {
    "duration": 131,
    "start_time": "2023-03-28T12:36:33.583Z"
   },
   {
    "duration": 158,
    "start_time": "2023-03-28T12:38:23.261Z"
   },
   {
    "duration": 17,
    "start_time": "2023-03-28T12:43:28.889Z"
   },
   {
    "duration": 84,
    "start_time": "2023-03-28T12:48:53.231Z"
   },
   {
    "duration": 7,
    "start_time": "2023-03-28T12:49:51.792Z"
   },
   {
    "duration": 15034,
    "start_time": "2023-03-28T12:51:03.225Z"
   },
   {
    "duration": 65855,
    "start_time": "2023-03-28T12:54:28.206Z"
   },
   {
    "duration": 21299,
    "start_time": "2023-03-28T12:55:39.766Z"
   },
   {
    "duration": 360145,
    "start_time": "2023-03-28T12:56:04.991Z"
   },
   {
    "duration": 29975,
    "start_time": "2023-03-28T13:05:10.088Z"
   },
   {
    "duration": 2875,
    "start_time": "2023-03-28T13:07:16.027Z"
   },
   {
    "duration": 914139,
    "start_time": "2023-03-28T13:07:25.670Z"
   },
   {
    "duration": 35983,
    "start_time": "2023-03-28T13:22:47.617Z"
   },
   {
    "duration": 1102178,
    "start_time": "2023-03-28T13:24:14.969Z"
   },
   {
    "duration": 15,
    "start_time": "2023-03-28T13:42:55.467Z"
   },
   {
    "duration": 31515,
    "start_time": "2023-03-28T13:43:03.808Z"
   },
   {
    "duration": 334643,
    "start_time": "2023-03-28T13:46:34.948Z"
   },
   {
    "duration": 49,
    "start_time": "2023-03-28T13:56:04.263Z"
   },
   {
    "duration": 48,
    "start_time": "2023-03-28T13:56:25.700Z"
   },
   {
    "duration": 39,
    "start_time": "2023-03-28T13:56:48.181Z"
   },
   {
    "duration": 30965,
    "start_time": "2023-03-28T13:58:29.238Z"
   },
   {
    "duration": 5468,
    "start_time": "2023-03-28T13:59:20.023Z"
   },
   {
    "duration": 30015,
    "start_time": "2023-03-28T13:59:29.696Z"
   },
   {
    "duration": 28933,
    "start_time": "2023-03-28T14:00:33.176Z"
   },
   {
    "duration": 2075,
    "start_time": "2023-03-28T17:20:41.247Z"
   },
   {
    "duration": 2742,
    "start_time": "2023-03-28T17:20:47.318Z"
   },
   {
    "duration": 356,
    "start_time": "2023-03-28T17:20:50.063Z"
   },
   {
    "duration": 14,
    "start_time": "2023-03-28T17:20:50.421Z"
   },
   {
    "duration": 10,
    "start_time": "2023-03-28T17:20:50.940Z"
   },
   {
    "duration": 7916,
    "start_time": "2023-03-28T17:20:52.428Z"
   },
   {
    "duration": 9,
    "start_time": "2023-03-28T17:21:00.346Z"
   },
   {
    "duration": 63,
    "start_time": "2023-03-28T17:21:00.356Z"
   },
   {
    "duration": 14,
    "start_time": "2023-03-28T17:21:00.422Z"
   },
   {
    "duration": 13239,
    "start_time": "2023-03-28T17:21:02.485Z"
   },
   {
    "duration": 287,
    "start_time": "2023-03-28T17:29:34.923Z"
   },
   {
    "duration": 19318,
    "start_time": "2023-03-28T17:29:40.896Z"
   },
   {
    "duration": 17152,
    "start_time": "2023-03-28T17:30:15.243Z"
   },
   {
    "duration": 305001,
    "start_time": "2023-03-28T17:36:50.277Z"
   },
   {
    "duration": 44,
    "start_time": "2023-03-28T17:42:43.845Z"
   },
   {
    "duration": 29299,
    "start_time": "2023-03-28T17:43:09.753Z"
   },
   {
    "duration": 272773,
    "start_time": "2023-03-28T17:45:20.723Z"
   },
   {
    "duration": 880604,
    "start_time": "2023-03-28T17:52:29.394Z"
   },
   {
    "duration": 48489,
    "start_time": "2023-03-28T18:07:53.512Z"
   },
   {
    "duration": 471518,
    "start_time": "2023-03-28T18:08:59.302Z"
   },
   {
    "duration": 6,
    "start_time": "2023-03-28T18:16:57.755Z"
   },
   {
    "duration": 8,
    "start_time": "2023-03-28T18:17:57.314Z"
   },
   {
    "duration": 8,
    "start_time": "2023-03-28T18:18:07.134Z"
   },
   {
    "duration": 25293,
    "start_time": "2023-03-28T18:18:26.714Z"
   },
   {
    "duration": 7,
    "start_time": "2023-03-28T18:19:05.813Z"
   },
   {
    "duration": 26639,
    "start_time": "2023-03-28T18:19:14.554Z"
   },
   {
    "duration": 1717,
    "start_time": "2023-03-30T08:31:57.101Z"
   },
   {
    "duration": 3758,
    "start_time": "2023-03-30T08:32:00.060Z"
   },
   {
    "duration": 310,
    "start_time": "2023-03-30T08:32:03.820Z"
   },
   {
    "duration": 6,
    "start_time": "2023-03-30T08:32:10.757Z"
   },
   {
    "duration": 7,
    "start_time": "2023-03-30T08:32:11.565Z"
   },
   {
    "duration": 2,
    "start_time": "2023-03-30T08:32:13.573Z"
   },
   {
    "duration": 516,
    "start_time": "2023-03-30T08:32:15.389Z"
   },
   {
    "duration": 1410,
    "start_time": "2023-03-30T08:32:59.143Z"
   },
   {
    "duration": 250,
    "start_time": "2023-03-30T08:33:06.290Z"
   },
   {
    "duration": 176176,
    "start_time": "2023-03-30T08:33:37.638Z"
   },
   {
    "duration": 7,
    "start_time": "2023-03-30T08:37:45.111Z"
   },
   {
    "duration": 4,
    "start_time": "2023-03-30T08:40:49.924Z"
   },
   {
    "duration": 867,
    "start_time": "2023-03-30T08:40:51.184Z"
   },
   {
    "duration": 326,
    "start_time": "2023-03-30T08:40:52.052Z"
   },
   {
    "duration": 5,
    "start_time": "2023-03-30T08:40:53.230Z"
   },
   {
    "duration": 7,
    "start_time": "2023-03-30T08:40:53.701Z"
   },
   {
    "duration": 3,
    "start_time": "2023-03-30T08:40:55.094Z"
   },
   {
    "duration": 4,
    "start_time": "2023-03-30T08:40:55.917Z"
   },
   {
    "duration": 65,
    "start_time": "2023-03-30T08:40:57.046Z"
   },
   {
    "duration": 250,
    "start_time": "2023-03-30T08:41:07.694Z"
   },
   {
    "duration": 3,
    "start_time": "2023-03-30T08:41:44.742Z"
   },
   {
    "duration": 3,
    "start_time": "2023-03-30T08:41:45.879Z"
   },
   {
    "duration": 6,
    "start_time": "2023-03-30T08:41:59.703Z"
   },
   {
    "duration": 3,
    "start_time": "2023-03-30T08:42:34.776Z"
   },
   {
    "duration": 3,
    "start_time": "2023-03-30T08:42:35.415Z"
   },
   {
    "duration": 9,
    "start_time": "2023-03-30T08:42:37.080Z"
   },
   {
    "duration": 3,
    "start_time": "2023-03-30T08:43:44.779Z"
   },
   {
    "duration": 484,
    "start_time": "2023-03-30T08:43:45.580Z"
   },
   {
    "duration": 200,
    "start_time": "2023-03-30T08:44:07.218Z"
   },
   {
    "duration": 54,
    "start_time": "2023-03-30T08:47:15.380Z"
   },
   {
    "duration": 4,
    "start_time": "2023-03-30T08:47:20.556Z"
   },
   {
    "duration": 8,
    "start_time": "2023-03-30T08:47:24.473Z"
   },
   {
    "duration": 198,
    "start_time": "2023-03-30T08:48:57.966Z"
   },
   {
    "duration": 5,
    "start_time": "2023-03-30T08:51:10.696Z"
   },
   {
    "duration": 819,
    "start_time": "2023-03-30T08:51:11.855Z"
   },
   {
    "duration": 327,
    "start_time": "2023-03-30T08:51:12.676Z"
   },
   {
    "duration": 5,
    "start_time": "2023-03-30T08:51:14.032Z"
   },
   {
    "duration": 9,
    "start_time": "2023-03-30T08:51:14.443Z"
   },
   {
    "duration": 2,
    "start_time": "2023-03-30T08:51:16.368Z"
   },
   {
    "duration": 294,
    "start_time": "2023-03-30T08:51:17.809Z"
   },
   {
    "duration": 679,
    "start_time": "2023-03-30T08:53:00.242Z"
   },
   {
    "duration": 761,
    "start_time": "2023-03-30T08:53:05.109Z"
   },
   {
    "duration": 296,
    "start_time": "2023-03-30T08:53:05.893Z"
   },
   {
    "duration": 6,
    "start_time": "2023-03-30T08:53:07.426Z"
   },
   {
    "duration": 6,
    "start_time": "2023-03-30T08:53:07.833Z"
   },
   {
    "duration": 2,
    "start_time": "2023-03-30T08:53:09.114Z"
   },
   {
    "duration": 16917,
    "start_time": "2023-03-30T08:53:09.779Z"
   },
   {
    "duration": 0,
    "start_time": "2023-03-30T08:53:26.698Z"
   },
   {
    "duration": 0,
    "start_time": "2023-03-30T08:53:26.700Z"
   },
   {
    "duration": 10,
    "start_time": "2023-03-30T08:54:38.996Z"
   },
   {
    "duration": 7,
    "start_time": "2023-03-30T08:54:42.772Z"
   },
   {
    "duration": 775,
    "start_time": "2023-03-30T08:54:44.859Z"
   },
   {
    "duration": 294,
    "start_time": "2023-03-30T08:54:45.635Z"
   },
   {
    "duration": 6,
    "start_time": "2023-03-30T08:54:47.195Z"
   },
   {
    "duration": 7,
    "start_time": "2023-03-30T08:54:47.588Z"
   },
   {
    "duration": 2,
    "start_time": "2023-03-30T08:54:49.124Z"
   },
   {
    "duration": 62,
    "start_time": "2023-03-30T11:07:42.933Z"
   },
   {
    "duration": 2541,
    "start_time": "2023-03-30T11:08:00.589Z"
   },
   {
    "duration": 14,
    "start_time": "2023-03-30T11:08:08.437Z"
   },
   {
    "duration": 3557,
    "start_time": "2023-03-30T11:08:12.125Z"
   },
   {
    "duration": 322,
    "start_time": "2023-03-30T11:08:15.685Z"
   },
   {
    "duration": 6,
    "start_time": "2023-03-30T11:08:19.093Z"
   },
   {
    "duration": 8,
    "start_time": "2023-03-30T11:08:19.809Z"
   },
   {
    "duration": 3,
    "start_time": "2023-03-30T11:08:21.501Z"
   },
   {
    "duration": 560,
    "start_time": "2023-03-30T11:08:25.671Z"
   },
   {
    "duration": 5954270,
    "start_time": "2023-03-30T11:09:19.032Z"
   },
   {
    "duration": 222,
    "start_time": "2023-03-30T12:49:24.888Z"
   },
   {
    "duration": 718,
    "start_time": "2023-03-30T12:49:28.018Z"
   },
   {
    "duration": 315,
    "start_time": "2023-03-30T12:49:28.738Z"
   },
   {
    "duration": 6,
    "start_time": "2023-03-30T12:49:30.298Z"
   },
   {
    "duration": 9,
    "start_time": "2023-03-30T12:49:31.033Z"
   },
   {
    "duration": 2,
    "start_time": "2023-03-30T12:49:34.626Z"
   },
   {
    "duration": 77,
    "start_time": "2023-03-30T12:49:37.715Z"
   },
   {
    "duration": 208,
    "start_time": "2023-03-30T12:49:42.907Z"
   },
   {
    "duration": 0,
    "start_time": "2023-03-31T10:47:26.935Z"
   },
   {
    "duration": 273,
    "start_time": "2023-03-31T10:47:30.458Z"
   },
   {
    "duration": 864,
    "start_time": "2023-03-31T10:47:34.202Z"
   },
   {
    "duration": 394,
    "start_time": "2023-03-31T10:47:35.794Z"
   },
   {
    "duration": 9,
    "start_time": "2023-03-31T10:47:38.231Z"
   },
   {
    "duration": 8,
    "start_time": "2023-03-31T10:47:39.562Z"
   },
   {
    "duration": 3,
    "start_time": "2023-03-31T10:47:43.474Z"
   },
   {
    "duration": 9267628,
    "start_time": "2023-03-31T10:47:44.706Z"
   },
   {
    "duration": 7,
    "start_time": "2023-03-31T13:22:16.891Z"
   },
   {
    "duration": 3,
    "start_time": "2023-03-31T13:22:27.242Z"
   },
   {
    "duration": 49,
    "start_time": "2023-03-31T13:22:27.747Z"
   },
   {
    "duration": 7,
    "start_time": "2023-03-31T13:22:32.507Z"
   },
   {
    "duration": 3,
    "start_time": "2023-03-31T13:22:38.219Z"
   },
   {
    "duration": 7495,
    "start_time": "2023-03-31T13:22:39.507Z"
   },
   {
    "duration": 1266958,
    "start_time": "2023-03-31T13:22:52.244Z"
   },
   {
    "duration": 3,
    "start_time": "2023-03-31T13:44:22.712Z"
   },
   {
    "duration": 112,
    "start_time": "2023-03-31T13:44:23.563Z"
   },
   {
    "duration": 163099,
    "start_time": "2023-03-31T13:45:30.299Z"
   },
   {
    "duration": 93,
    "start_time": "2023-03-31T13:48:31.329Z"
   },
   {
    "duration": 87,
    "start_time": "2023-03-31T13:48:59.814Z"
   },
   {
    "duration": 47708,
    "start_time": "2023-03-31T13:49:09.927Z"
   },
   {
    "duration": 46881,
    "start_time": "2023-03-31T13:50:50.490Z"
   },
   {
    "duration": 234,
    "start_time": "2023-03-31T16:03:02.304Z"
   },
   {
    "duration": 1088,
    "start_time": "2023-03-31T16:03:05.856Z"
   },
   {
    "duration": 295,
    "start_time": "2023-03-31T16:03:06.946Z"
   },
   {
    "duration": 8,
    "start_time": "2023-03-31T16:03:09.201Z"
   },
   {
    "duration": 8,
    "start_time": "2023-03-31T16:03:09.871Z"
   },
   {
    "duration": 4,
    "start_time": "2023-03-31T16:03:12.298Z"
   },
   {
    "duration": 8,
    "start_time": "2023-03-31T16:03:26.136Z"
   },
   {
    "duration": 10656359,
    "start_time": "2023-03-31T16:03:31.215Z"
   },
   {
    "duration": 11,
    "start_time": "2023-03-31T19:01:45.475Z"
   },
   {
    "duration": 9,
    "start_time": "2023-03-31T19:01:47.819Z"
   },
   {
    "duration": 83,
    "start_time": "2023-03-31T19:01:48.613Z"
   },
   {
    "duration": 5,
    "start_time": "2023-03-31T19:01:51.585Z"
   },
   {
    "duration": 7,
    "start_time": "2023-03-31T19:01:53.438Z"
   },
   {
    "duration": 10654,
    "start_time": "2023-03-31T19:01:54.750Z"
   },
   {
    "duration": 1232257,
    "start_time": "2023-03-31T19:02:05.406Z"
   },
   {
    "duration": 39427,
    "start_time": "2023-03-31T19:22:46.365Z"
   },
   {
    "duration": 2947,
    "start_time": "2023-04-01T14:04:18.521Z"
   },
   {
    "duration": 14,
    "start_time": "2023-04-01T14:04:24.056Z"
   },
   {
    "duration": 3780,
    "start_time": "2023-04-01T14:04:26.329Z"
   },
   {
    "duration": 472,
    "start_time": "2023-04-01T14:04:30.112Z"
   },
   {
    "duration": 8,
    "start_time": "2023-04-01T14:04:32.784Z"
   },
   {
    "duration": 9,
    "start_time": "2023-04-01T14:04:33.544Z"
   },
   {
    "duration": 4,
    "start_time": "2023-04-01T14:04:35.318Z"
   },
   {
    "duration": 9063783,
    "start_time": "2023-04-01T14:04:36.428Z"
   },
   {
    "duration": 8,
    "start_time": "2023-04-01T16:37:50.019Z"
   },
   {
    "duration": 3,
    "start_time": "2023-04-01T16:37:55.726Z"
   },
   {
    "duration": 35,
    "start_time": "2023-04-01T16:37:56.424Z"
   },
   {
    "duration": 3,
    "start_time": "2023-04-01T16:38:01.576Z"
   },
   {
    "duration": 4,
    "start_time": "2023-04-01T16:38:02.673Z"
   },
   {
    "duration": 7742,
    "start_time": "2023-04-01T16:38:03.710Z"
   },
   {
    "duration": 677464,
    "start_time": "2023-04-01T16:38:26.972Z"
   },
   {
    "duration": 56283,
    "start_time": "2023-04-01T16:50:10.502Z"
   },
   {
    "duration": 946889,
    "start_time": "2023-04-01T16:51:19.718Z"
   },
   {
    "duration": 104996,
    "start_time": "2023-04-01T17:07:26.377Z"
   },
   {
    "duration": 755808,
    "start_time": "2023-04-01T17:09:17.631Z"
   },
   {
    "duration": 6,
    "start_time": "2023-04-01T17:22:08.218Z"
   },
   {
    "duration": 11,
    "start_time": "2023-04-01T17:22:19.899Z"
   },
   {
    "duration": 2837,
    "start_time": "2023-04-04T13:23:52.709Z"
   },
   {
    "duration": 13,
    "start_time": "2023-04-04T13:23:56.866Z"
   },
   {
    "duration": 3727,
    "start_time": "2023-04-04T13:23:58.562Z"
   },
   {
    "duration": 337,
    "start_time": "2023-04-04T13:24:02.292Z"
   },
   {
    "duration": 6,
    "start_time": "2023-04-04T13:24:05.027Z"
   },
   {
    "duration": 10,
    "start_time": "2023-04-04T13:24:05.946Z"
   },
   {
    "duration": 3,
    "start_time": "2023-04-04T13:24:08.074Z"
   },
   {
    "duration": 1287962,
    "start_time": "2023-04-04T13:24:08.815Z"
   },
   {
    "duration": 14,
    "start_time": "2023-04-04T13:46:15.102Z"
   },
   {
    "duration": 2329,
    "start_time": "2023-04-04T17:04:26.719Z"
   },
   {
    "duration": 13,
    "start_time": "2023-04-04T17:04:30.677Z"
   },
   {
    "duration": 3684,
    "start_time": "2023-04-04T17:04:33.912Z"
   },
   {
    "duration": 317,
    "start_time": "2023-04-04T17:04:37.598Z"
   },
   {
    "duration": 5,
    "start_time": "2023-04-04T17:04:37.916Z"
   },
   {
    "duration": 16,
    "start_time": "2023-04-04T17:04:37.923Z"
   },
   {
    "duration": 1236019,
    "start_time": "2023-04-04T17:05:16.119Z"
   },
   {
    "duration": 3,
    "start_time": "2023-04-04T17:26:30.958Z"
   },
   {
    "duration": 12,
    "start_time": "2023-04-04T17:26:34.929Z"
   },
   {
    "duration": 3,
    "start_time": "2023-04-04T17:26:53.488Z"
   },
   {
    "duration": 37,
    "start_time": "2023-04-04T17:26:54.847Z"
   },
   {
    "duration": 4,
    "start_time": "2023-04-04T17:27:00.409Z"
   },
   {
    "duration": 2,
    "start_time": "2023-04-04T17:27:02.552Z"
   },
   {
    "duration": 7128,
    "start_time": "2023-04-04T17:27:03.384Z"
   },
   {
    "duration": 706640,
    "start_time": "2023-04-04T17:27:19.246Z"
   },
   {
    "duration": 4,
    "start_time": "2023-04-04T17:40:12.405Z"
   },
   {
    "duration": 104964,
    "start_time": "2023-04-04T17:40:13.932Z"
   },
   {
    "duration": 928445,
    "start_time": "2023-04-04T17:42:44.171Z"
   },
   {
    "duration": 3,
    "start_time": "2023-04-04T17:58:52.596Z"
   },
   {
    "duration": 305199,
    "start_time": "2023-04-04T17:58:53.395Z"
   },
   {
    "duration": 3,
    "start_time": "2023-04-04T18:04:08.619Z"
   },
   {
    "duration": 2060132,
    "start_time": "2023-04-04T18:04:09.458Z"
   },
   {
    "duration": 5,
    "start_time": "2023-04-04T18:38:50.685Z"
   },
   {
    "duration": 10,
    "start_time": "2023-04-04T18:39:03.759Z"
   }
  ],
  "kernelspec": {
   "display_name": "Python 3 (ipykernel)",
   "language": "python",
   "name": "python3"
  },
  "language_info": {
   "codemirror_mode": {
    "name": "ipython",
    "version": 3
   },
   "file_extension": ".py",
   "mimetype": "text/x-python",
   "name": "python",
   "nbconvert_exporter": "python",
   "pygments_lexer": "ipython3",
   "version": "3.9.5"
  },
  "toc": {
   "base_numbering": 1,
   "nav_menu": {},
   "number_sections": true,
   "sideBar": true,
   "skip_h1_title": true,
   "title_cell": "Содержание",
   "title_sidebar": "Contents",
   "toc_cell": true,
   "toc_position": {
    "height": "calc(100% - 180px)",
    "left": "10px",
    "top": "150px",
    "width": "302.391px"
   },
   "toc_section_display": true,
   "toc_window_display": false
  }
 },
 "nbformat": 4,
 "nbformat_minor": 2
}
